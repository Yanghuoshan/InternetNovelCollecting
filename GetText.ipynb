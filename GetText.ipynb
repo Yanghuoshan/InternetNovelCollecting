{
 "cells": [
  {
   "cell_type": "code",
   "execution_count": null,
   "metadata": {},
   "outputs": [],
   "source": [
    "import requests\n",
    "from bs4 import BeautifulSoup\n",
    "import json\n",
    "import time"
   ]
  },
  {
   "cell_type": "code",
   "execution_count": null,
   "metadata": {},
   "outputs": [],
   "source": [
    "url = 'http://www.ibiquge.cc/296/'\n",
    "headerss = [\n",
    "    {'User-Agent':'Mozilla/5.0 (Macintosh; Intel Mac OS X 10.6; rv:2.0.1) Gecko/20100101 Firefox/4.0.1'},\n",
    "    {'User-Agent':'Mozilla/5.0 (Macintosh; Intel Mac OS X 10_7_0) AppleWebKit/535.11 (KHTML, like Gecko) Chrome/17.0.963.56 Safari/535.11'},\n",
    "    {'User-Agent':'Mozilla/5.0 (Windows NT 10.0; Win64; x64) AppleWebKit/537.36 (KHTML, like Gecko) Chrome/115.0.0.0 Safari/537.36 Edg/115.0.1901.188'},\n",
    "    {'User-Agent':'Mozilla/5.0 (Macintosh; U; Intel Mac OS X 10_6_8; en-us) AppleWebKit/534.50 (KHTML, like Gecko) Version/5.1 Safari/534.50'}]\n",
    "headers = headerss[0]\n",
    "r =requests.get(url,headers=headers)\n",
    "bs = BeautifulSoup(r.text,'lxml')"
   ]
  },
  {
   "cell_type": "code",
   "execution_count": null,
   "metadata": {},
   "outputs": [],
   "source": [
    "htmls = []\n",
    "content = bs.find(name='div',attrs={'class':'listmain'})\n",
    "chapters = content.find_all(name='dd')\n",
    "for chapter in chapters:\n",
    "    print(chapter.text)\n",
    "    html = chapter.find(name='a').get('href')\n",
    "    htmls.append('http://www.ibiquge.cc' + html)\n",
    "    print(html)\n",
    "\n",
    "print(htmls)"
   ]
  },
  {
   "cell_type": "code",
   "execution_count": 13,
   "metadata": {},
   "outputs": [
    {
     "name": "stdout",
     "output_type": "stream",
     "text": [
      "1\n",
      "<!DOCTYPE html PUBLIC \"-//W3C//DTD XHTML 1.0 Transitional//EN\" \"http://www.w3.org/TR/xhtml1/DTD/xhtml1-transitional.dtd\">\n",
      "<html xmlns=\"http://www.w3.org/1999/xhtml\">\n",
      "<head>\n",
      "<title>至尊剑皇_半步沧桑_第一章 坠崖重生为少年_笔趣阁</title>\n",
      "<meta content=\"第一章 坠崖重生为少年,半步沧桑,至尊剑皇\" name=\"keywords\"/>\n",
      "<meta content=\"笔趣阁提供至尊剑皇(半步沧桑)第一章 坠崖重生为少年在线阅读,所有小说均免费阅读,努力打造最干净的阅读环境,24小时不间断更新,请大家告诉更多的小说迷。\" name=\"description\"/>\n",
      "<meta content=\"text/html; charset=utf-8\" http-equiv=\"Content-Type\"/>\n",
      "<meta content=\"no-transform\" http-equiv=\"Cache-Control\"/>\n",
      "<meta content=\"no-siteapp\" http-equiv=\"Cache-Control\"/>\n",
      "<meta content=\"format=html5; url=http://m.ibiquge.cc/296/310165.html\" http-equiv=\"mobile-agent\"/>\n",
      "<meta content=\"format=xhtml; url=http://m.ibiquge.cc/296/310165.html\" http-equiv=\"mobile-agent\"/>\n",
      "<link href=\"/css/style.css?v=1.0\" rel=\"stylesheet\" type=\"text/css\"/>\n",
      "<script src=\"http://apps.bdimg.com/libs/jquery/1.8.3/jquery.min.js\"></script>\n",
      "<script src=\"/js/common.js\"></script>\n",
      "<script src=\"/js/read.js\"></script>\n",
      "<script type=\"text/javascript\">\n",
      "var preview_page = \"/296/\";\n",
      "var next_page = \"/296/310167.html\";\n",
      "var index_page = \"/296/\";\n",
      "function jumpPage() {\n",
      "  if (event.keyCode==37) location=preview_page;\n",
      "  if (event.keyCode==39) location=next_page;\n",
      "  if (event.keyCode==13) location=index_page;\n",
      "}\n",
      "document.onkeydown=jumpPage; \n",
      "</script>\n",
      "</head>\n",
      "<body id=\"wrapper\">\n",
      "<script>login();</script>\n",
      "<div class=\"header\">\n",
      "<div class=\"wrap\">\n",
      "<div class=\"logo\">\n",
      "<a href=\"/\" title=\"笔趣阁\">笔趣阁<em>www.ibiquge.cc</em></a>\n",
      "</div>\n",
      "<script>sejarch();</script>\n",
      "</div>\n",
      "</div>\n",
      "<div class=\"nav\">\n",
      "<ul><li class=\"this\"><a href=\"/\" title=\"笔趣阁\">首页</a></li><li><a href=\"/xuanhuan/\">玄幻小说</a></li><li><a href=\"/xiuzhen/\">修真小说</a></li><li><a href=\"/dushi/\">都市小说</a></li><li><a href=\"/lishi/\">历史小说</a></li><li><a href=\"/wangyou/\">网游小说</a></li><li><a href=\"/kehuan/\">科幻小说</a></li><li><a href=\"/yanqing/\">言情小说</a></li><li><a href=\"/qita/\">其他小说</a></li><li><a href=\"/quanben/\">全本小说</a></li><li><a href=\"/bookcase.html\">临时书架</a></li></ul>\n",
      "<div class=\"h_submenucon\"><script>bdshare();</script></div>\n",
      "</div>\n",
      "<div id=\"book\">\n",
      "</script></span>\"><div class=\"p\"> <a href=\"/\">笔趣阁</a> - 玄幻小说 - <a href=\"/296/\">至尊剑皇在线阅读</a> - 第一章 坠崖重生为少年 <span class=\"oninfo\"><script>textselect();\n",
      "</div></div>\n",
      "<div class=\"content\">\n",
      "<h1>第一章 坠崖重生为少年</h1>\n",
      "<div class=\"page_chapter\">\n",
      "<ul>\n",
      "<li><a href=\"/296/\">上一章</a></li>\n",
      "<li><a href=\"/296/\">返回目录</a></li>\n",
      "<li><a href=\"/296/310167.html\">下一章</a></li>\n",
      "<li><a href=\"javascript:;\" onclick=\"addBookMark('296','310165','至尊剑皇','第一章 坠崖重生为少年');\" rel=\"nofollow\">加入书签</a>\n",
      "</li>\n",
      "</ul>\n",
      "</div>\n",
      "<div class=\"linkk\"><span>书迷正在阅读：<a href=\"/298/\">太古神王</a>、<a href=\"/300/\">都市超级医圣</a>、<a href=\"/302/\">俗人回档</a>、<a href=\"/304/\">极品全能学生</a>、<a href=\"/306/\">永恒圣帝</a></span></div>\n",
      "<br/> <br/>        并且，脑海中深深铭记着一段无名口诀，能够打破斗战圣体的诅咒，脱胎换骨的方法。<br/><br/></div>则是微弱、沙哑的声音。岁时被人暗算，坠落悬崖后的伤势，一模一样。体颤抖着，呼吸急促起来。\n",
      "<div class=\"page_chapter\">\n",
      "<ul>\n",
      "<li><a href=\"/296/\">上一章</a></li>\n",
      "<li><a href=\"/296/\">返回目录</a></li>\n",
      "<li><a href=\"/296/310167.html\">下一章</a></li>\n",
      "<li><a href=\"javascript:;\" onclick=\"addBookMark('296','310165','至尊剑皇','第一章 坠崖重生为少年');\" rel=\"nofollow\">加入书签</a> </li>\n",
      "</ul>\n",
      "</div>\n",
      "</div>\n",
      "</div>\n",
      "<script>lastread.set('296','310165','至尊剑皇','第一章 坠崖重生为少年','半步沧桑','玄幻小说');</script>\n",
      "<div id=\"footer\" name=\"footer\">\n",
      "<div class=\"link\"><span>笔趣阁_书迷正在阅读：<a href=\"/298/\">太古神王</a>、<a href=\"/300/\">都市超级医圣</a>、<a href=\"/302/\">俗人回档</a>、<a href=\"/304/\">极品全能学生</a>、<a href=\"/306/\">永恒圣帝</a></span></div>\n",
      "<hr/>\n",
      "<p> 《至尊剑皇》情节跌宕起伏、扣人心弦，是一本情节与文笔俱佳的玄幻小说，笔趣阁转载收集至尊剑皇最新章节。</p>\n",
      "<script>footer();tj();readtc();</script>\n",
      "</div>\n",
      "<div id=\"tbox\">\n",
      "<a href=\"#main\" id=\"gotop\"></a>\n",
      "<a href=\"/user/bookcase.php\" id=\"jianyi\" target=\"_blank\"></a>\n",
      "<a href=\"#footer\" id=\"gobottom\"></a>\n",
      "</div>\n",
      "</body>\n",
      "</html>\n"
     ]
    },
    {
     "ename": "AttributeError",
     "evalue": "'NoneType' object has no attribute 'text'",
     "output_type": "error",
     "traceback": [
      "\u001b[1;31m---------------------------------------------------------------------------\u001b[0m",
      "\u001b[1;31mAttributeError\u001b[0m                            Traceback (most recent call last)",
      "\u001b[1;32m~\\AppData\\Local\\Temp\\ipykernel_5768\\737412757.py\u001b[0m in \u001b[0;36m<module>\u001b[1;34m\u001b[0m\n\u001b[0;32m     20\u001b[0m     \u001b[0mprint\u001b[0m\u001b[1;33m(\u001b[0m\u001b[0mbsoup\u001b[0m\u001b[1;33m)\u001b[0m\u001b[1;33m\u001b[0m\u001b[1;33m\u001b[0m\u001b[0m\n\u001b[0;32m     21\u001b[0m     \u001b[0mcontent\u001b[0m \u001b[1;33m=\u001b[0m \u001b[0mbsoup\u001b[0m\u001b[1;33m.\u001b[0m\u001b[0mfind\u001b[0m\u001b[1;33m(\u001b[0m\u001b[0mname\u001b[0m\u001b[1;33m=\u001b[0m\u001b[1;34m'div'\u001b[0m\u001b[1;33m,\u001b[0m\u001b[0mattrs\u001b[0m\u001b[1;33m=\u001b[0m\u001b[1;33m{\u001b[0m\u001b[1;34m'class'\u001b[0m\u001b[1;33m:\u001b[0m\u001b[1;34m'content'\u001b[0m\u001b[1;33m}\u001b[0m\u001b[1;33m)\u001b[0m\u001b[1;33m\u001b[0m\u001b[1;33m\u001b[0m\u001b[0m\n\u001b[1;32m---> 22\u001b[1;33m     \u001b[0mtitle\u001b[0m \u001b[1;33m=\u001b[0m \u001b[0mcontent\u001b[0m\u001b[1;33m.\u001b[0m\u001b[0mfind\u001b[0m\u001b[1;33m(\u001b[0m\u001b[0mname\u001b[0m\u001b[1;33m=\u001b[0m\u001b[1;34m'h'\u001b[0m\u001b[1;33m)\u001b[0m\u001b[1;33m.\u001b[0m\u001b[0mtext\u001b[0m\u001b[1;33m\u001b[0m\u001b[1;33m\u001b[0m\u001b[0m\n\u001b[0m\u001b[0;32m     23\u001b[0m     \u001b[0mcontext\u001b[0m \u001b[1;33m=\u001b[0m \u001b[0mcontent\u001b[0m\u001b[1;33m.\u001b[0m\u001b[0mfind\u001b[0m\u001b[1;33m(\u001b[0m\u001b[0mname\u001b[0m\u001b[1;33m=\u001b[0m\u001b[1;34m'div'\u001b[0m\u001b[1;33m,\u001b[0m\u001b[0mattrs\u001b[0m\u001b[1;33m=\u001b[0m\u001b[1;33m{\u001b[0m\u001b[1;34m'class'\u001b[0m\u001b[1;33m:\u001b[0m\u001b[1;34m'showtxt'\u001b[0m\u001b[1;33m}\u001b[0m\u001b[1;33m)\u001b[0m\u001b[1;33m.\u001b[0m\u001b[0mtext\u001b[0m\u001b[1;33m\u001b[0m\u001b[1;33m\u001b[0m\u001b[0m\n\u001b[0;32m     24\u001b[0m     \u001b[0mprint\u001b[0m\u001b[1;33m(\u001b[0m\u001b[0mtitle\u001b[0m\u001b[1;33m)\u001b[0m\u001b[1;33m\u001b[0m\u001b[1;33m\u001b[0m\u001b[0m\n",
      "\u001b[1;31mAttributeError\u001b[0m: 'NoneType' object has no attribute 'text'"
     ]
    }
   ],
   "source": [
    "res = []\n",
    "cnt = 0\n",
    "for page in htmls:\n",
    "    cnt += 1\n",
    "    print(cnt)\n",
    "    i = 0\n",
    "    while(True):\n",
    "        if i>3:\n",
    "            break\n",
    "        try:\n",
    "            headers = headerss[i]\n",
    "            re = requests.get(page,headers=headers)\n",
    "        except Exception as e:\n",
    "            print(e)\n",
    "            i += 1\n",
    "            continue\n",
    "        else:\n",
    "            break\n",
    "    bsoup = BeautifulSoup(re.text, 'lxml')\n",
    "    print(bsoup)\n",
    "    content = bsoup.find(name='div',attrs={'class':'content'})\n",
    "    title = content.find(name='h').text\n",
    "    context = content.find(name='div',attrs={'class':'showtxt'}).text\n",
    "    print(title)\n",
    "    print(content)\n",
    "    break\n",
    "    \n",
    "    time.sleep(1)\n"
   ]
  }
 ],
 "metadata": {
  "kernelspec": {
   "display_name": "base",
   "language": "python",
   "name": "python3"
  },
  "language_info": {
   "codemirror_mode": {
    "name": "ipython",
    "version": 3
   },
   "file_extension": ".py",
   "mimetype": "text/x-python",
   "name": "python",
   "nbconvert_exporter": "python",
   "pygments_lexer": "ipython3",
   "version": "3.9.13"
  },
  "orig_nbformat": 4,
  "vscode": {
   "interpreter": {
    "hash": "49142beb7bbee4f51fe7750dcbfc70a8fca192365ffe2cb74adca7f6391e07b2"
   }
  }
 },
 "nbformat": 4,
 "nbformat_minor": 2
}
